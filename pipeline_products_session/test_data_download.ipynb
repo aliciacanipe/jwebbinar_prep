{
 "cells": [
  {
   "cell_type": "markdown",
   "metadata": {},
   "source": [
    "# Test data download\n",
    "\n",
    "Using the download cells from notebook 2."
   ]
  },
  {
   "cell_type": "code",
   "execution_count": 1,
   "metadata": {},
   "outputs": [],
   "source": [
    "# Module with functions to get information about objects:\n",
    "import os\n",
    "import inspect\n",
    "import asdf \n",
    "import pprint\n",
    "\n",
    "# Numpy library:\n",
    "import numpy as np\n",
    "\n",
    "# Scipy tools\n",
    "from scipy.signal import medfilt\n",
    "\n",
    "# Astropy tools:\n",
    "from astropy.utils.data import download_file\n",
    "from astropy.io import fits\n",
    "\n",
    "# The JWST models:\n",
    "from jwst import datamodels"
   ]
  },
  {
   "cell_type": "code",
   "execution_count": null,
   "metadata": {},
   "outputs": [],
   "source": [
    "rate_file = [\"https://stsci.box.com/shared/static/h30hhwhu4ihlhqjnlhbblx07wnitoytd.fits\", \n",
    "             \"example_nircam_imaging_rate.fits\"]\n",
    "rateints_file = [\"https://stsci.box.com/shared/static/jh937bjqodqhfobhpemnbqt4jax6d6j4.fits\", \n",
    "                 \"example_nircam_imaging_rateints.fits\"]\n",
    "ramp_file = [\"https://stsci.box.com/shared/static/x7d0ldm7bp683p5yyi2buvphjcckujbe.fits\",\n",
    "             \"example_nircam_imaging_ramp.fits\"]\n",
    "wfss_rate_file = [\"https://stsci.box.com/shared/static/d5k9z5j05dgfv6ljgie483w21kmpevni.fits\",\n",
    "                  \"example_nircam_wfss_rate.fits\"]\n",
    "cal_file = [\"https://stsci.box.com/shared/static/8g15cxb3nri47l3bx22mjtdw3yt8xxiv.fits\",\n",
    "            \"example_nircam_imaging_cal.fits\"]\n",
    "wfss_cal_file = [\"https://stsci.box.com/shared/static/pqgt98wsjz16av3768756ierahzqn8w7.fits\",\n",
    "                 \"example_nircam_wfss_cal.fits\"]\n",
    "wfss_x1d_file = [\"https://stsci.box.com/shared/static/fjzq3dm2kgp2ttoptxwe9yfghmxxxz89.fits\",\n",
    "                 \"example_nircam_wfss_x1d.fits\"]\n",
    "demo_ex_file = [\"https://stsci.box.com/shared/static/6vn402728z12cyx6czdt5hpaxa071aek.fits\",\n",
    "                \"example_exercise_cal.fits\"]\n",
    "\n",
    "all_files = [rate_file, rateints_file, ramp_file, cal_file,\n",
    "             wfss_rate_file, wfss_cal_file, wfss_x1d_file,\n",
    "             demo_ex_file]\n",
    "\n",
    "for file in all_files:\n",
    "    demo_file = download_file(file[0])\n",
    "    \n",
    "    # Save the file so that we can use it later\n",
    "    with fits.open(demo_file) as f:\n",
    "        f.writeto(file[1], overwrite=True)"
   ]
  },
  {
   "cell_type": "code",
   "execution_count": null,
   "metadata": {},
   "outputs": [],
   "source": []
  }
 ],
 "metadata": {
  "kernelspec": {
   "display_name": "Python 3",
   "language": "python",
   "name": "python3"
  },
  "language_info": {
   "codemirror_mode": {
    "name": "ipython",
    "version": 3
   },
   "file_extension": ".py",
   "mimetype": "text/x-python",
   "name": "python",
   "nbconvert_exporter": "python",
   "pygments_lexer": "ipython3",
   "version": "3.7.8"
  }
 },
 "nbformat": 4,
 "nbformat_minor": 4
}
